{
  "nbformat": 4,
  "nbformat_minor": 0,
  "metadata": {
    "colab": {
      "name": "deep.learning.challenge.ipynb",
      "provenance": [],
      "authorship_tag": "ABX9TyOvj0Ot0Jil1yRskDeNMa+I",
      "include_colab_link": true
    },
    "kernelspec": {
      "name": "python3",
      "display_name": "Python 3"
    }
  },
  "cells": [
    {
      "cell_type": "markdown",
      "metadata": {
        "id": "view-in-github",
        "colab_type": "text"
      },
      "source": [
        "<a href=\"https://colab.research.google.com/github/Gaukhar-ai/DecisionTree/blob/master/deep_learning_challenge.ipynb\" target=\"_parent\"><img src=\"https://colab.research.google.com/assets/colab-badge.svg\" alt=\"Open In Colab\"/></a>"
      ]
    },
    {
      "cell_type": "code",
      "metadata": {
        "id": "jcnYMPuvJV58",
        "colab": {
          "base_uri": "https://localhost:8080/"
        },
        "outputId": "5618a35f-7778-47fc-d966-e01f234b700a"
      },
      "source": [
        "import warnings\n",
        "warnings.filterwarnings(\"ignore\")\n",
        "from tensorflow.keras.datasets import mnist\n",
        "from tensorflow.keras.utils import to_categorical\n",
        "from tensorflow.keras.models import Sequential \n",
        "from tensorflow.keras.layers import Dense, Activation\n",
        "import os\n",
        "import tensorflow as tf\n",
        "import numpy as np\n",
        "import matplotlib.pyplot as plt\n",
        "from tensorflow.keras import losses\n",
        "print(tf.__version__)\n",
        "from keras.optimizers import Adam\n",
        "from keras.optimizers import RMSprop\n",
        "from tensorflow.keras.optimizers import SGD\n",
        "\n"
      ],
      "execution_count": null,
      "outputs": [
        {
          "output_type": "stream",
          "text": [
            "2.3.0\n"
          ],
          "name": "stdout"
        }
      ]
    },
    {
      "cell_type": "markdown",
      "metadata": {
        "id": "1DCZEUR5J5Ad"
      },
      "source": [
        "can access the Fashion MNIST directly from TensorFlow. Import and load the Fashion MNIST data directly from TensorFlow"
      ]
    },
    {
      "cell_type": "code",
      "metadata": {
        "id": "c3VomXn0JYm-"
      },
      "source": [
        "fashion_mnist = tf.keras.datasets.fashion_mnist\n",
        "\n",
        "(X_train, y_train), (X_test, y_test) = fashion_mnist.load_data()"
      ],
      "execution_count": null,
      "outputs": []
    },
    {
      "cell_type": "code",
      "metadata": {
        "id": "gU-SIThsg4KK",
        "colab": {
          "base_uri": "https://localhost:8080/",
          "height": 282
        },
        "outputId": "9e3254c0-19e3-42f3-ee48-5d5d486e68e8"
      },
      "source": [
        "plt.imshow(X_train[5])\n"
      ],
      "execution_count": null,
      "outputs": [
        {
          "output_type": "execute_result",
          "data": {
            "text/plain": [
              "<matplotlib.image.AxesImage at 0x7fc41a0d6668>"
            ]
          },
          "metadata": {
            "tags": []
          },
          "execution_count": 3
        },
        {
          "output_type": "display_data",
          "data": {
            "image/png": "[encoded data removed]",
            "text/plain": [
              "<Figure size 432x288 with 1 Axes>"
            ]
          },
          "metadata": {
            "tags": [],
            "needs_background": "light"
          }
        }
      ]
    },
    {
      "cell_type": "markdown",
      "metadata": {
        "id": "lI9vIos2KGke"
      },
      "source": [
        "Then, we load the data and do our preprocessing:"
      ]
    },
    {
      "cell_type": "code",
      "metadata": {
        "id": "NkYgaWkyJZHs"
      },
      "source": [
        "input_dim = 784  # 28*28\n",
        "output_dim = nb_classes = 10\n",
        "batch_size = 128\n",
        "nb_epoch = 20\n",
        "\n",
        "X_train = X_train.reshape(60000, input_dim)\n",
        "X_test = X_test.reshape(10000, input_dim)\n",
        "X_train = X_train.astype('float32')\n",
        "X_test = X_test.astype('float32')\n",
        "X_train /= 255\n",
        "X_test /= 255"
      ],
      "execution_count": null,
      "outputs": []
    },
    {
      "cell_type": "markdown",
      "metadata": {
        "id": "FhvXuOT4KR5U"
      },
      "source": [
        "Next we one hot code our target variable using to_categorical function of Keras' utils module:"
      ]
    },
    {
      "cell_type": "code",
      "metadata": {
        "id": "ww-x-zmtJZKW"
      },
      "source": [
        "from tensorflow.keras.utils import to_categorical\n",
        "\n",
        "Y_train = to_categorical(y_train, nb_classes)\n",
        "Y_test = to_categorical(y_test, nb_classes)"
      ],
      "execution_count": null,
      "outputs": []
    },
    {
      "cell_type": "markdown",
      "metadata": {
        "id": "Fg8r7T7DKXE1"
      },
      "source": [
        "Now, let's check the size of the data:"
      ]
    },
    {
      "cell_type": "code",
      "metadata": {
        "id": "Mj8ZdzJ5JZNK",
        "colab": {
          "base_uri": "https://localhost:8080/"
        },
        "outputId": "8a7a9219-2470-4723-9154-8fbb113bda09"
      },
      "source": [
        "X_train[0].shape"
      ],
      "execution_count": null,
      "outputs": [
        {
          "output_type": "execute_result",
          "data": {
            "text/plain": [
              "(784,)"
            ]
          },
          "metadata": {
            "tags": []
          },
          "execution_count": 6
        }
      ]
    },
    {
      "cell_type": "markdown",
      "metadata": {
        "id": "UovRWPUPKdpy"
      },
      "source": [
        "So, the data we have is a flattened version of the images where each row in the 28x28 matrix is concatenated side by side."
      ]
    },
    {
      "cell_type": "code",
      "metadata": {
        "id": "_drQ6QpvJZPz",
        "colab": {
          "base_uri": "https://localhost:8080/",
          "height": 307
        },
        "outputId": "1df9999e-8cb0-4aa0-bc94-787b41ddd846"
      },
      "source": [
        "import matplotlib.pyplot as plt\n",
        "\n",
        "plt.figure(figsize=(20,5))\n",
        "\n",
        "plt.subplot(141)\n",
        "plt.imshow(X_train[123].reshape(28,28), cmap=\"gray\")\n",
        "plt.title(\"Label of the image: {}\".format(y_train[123]))\n",
        "\n",
        "plt.subplot(142)\n",
        "plt.imshow(X_train[124].reshape(28,28), cmap=\"gray\")\n",
        "plt.title(\"Label of the image: {}\".format(y_train[124]))\n",
        "\n",
        "plt.subplot(143)\n",
        "plt.imshow(X_train[125].reshape(28,28), cmap=\"gray\")\n",
        "plt.title(\"Label of the image: {}\".format(y_train[125]))\n",
        "\n",
        "plt.subplot(144)\n",
        "plt.imshow(X_train[126].reshape(28,28), cmap=\"gray\")\n",
        "plt.title(\"Label of the image: {}\".format(y_train[126]))\n",
        "\n",
        "plt.show()"
      ],
      "execution_count": null,
      "outputs": [
        {
          "output_type": "display_data",
          "data": {
            "image/png": "[encoded data removed]",
            "text/plain": [
              "<Figure size 1440x360 with 4 Axes>"
            ]
          },
          "metadata": {
            "tags": [],
            "needs_background": "light"
          }
        }
      ]
    },
    {
      "cell_type": "code",
      "metadata": {
        "id": "UkwE0g4fJZSY"
      },
      "source": [
        "from tensorflow.keras.models import Sequential \n",
        "from tensorflow.keras.layers import Dense\n",
        "\n",
        "model = Sequential()\n",
        "# our first dense layer\n",
        "model.add(Dense(1028, input_shape=(784,), activation=\"relu\"))\n",
        "# our second dense layer\n",
        "model.add(Dense(1028, activation=\"relu\"))\n",
        "# last layer is the output layer.\n",
        "model.add(Dense(10, activation=\"softmax\"))"
      ],
      "execution_count": null,
      "outputs": []
    },
    {
      "cell_type": "code",
      "metadata": {
        "id": "QMr-eaKkJZVR",
        "colab": {
          "base_uri": "https://localhost:8080/"
        },
        "outputId": "80f3d89d-c213-47df-b121-872e7c326437"
      },
      "source": [
        "model.summary()"
      ],
      "execution_count": null,
      "outputs": [
        {
          "output_type": "stream",
          "text": [
            "Model: \"sequential\"\n",
            "_________________________________________________________________\n",
            "Layer (type)                 Output Shape              Param #   \n",
            "=================================================================\n",
            "dense (Dense)                (None, 1028)              806980    \n",
            "_________________________________________________________________\n",
            "dense_1 (Dense)              (None, 1028)              1057812   \n",
            "_________________________________________________________________\n",
            "dense_2 (Dense)              (None, 10)                10290     \n",
            "=================================================================\n",
            "Total params: 1,875,082\n",
            "Trainable params: 1,875,082\n",
            "Non-trainable params: 0\n",
            "_________________________________________________________________\n"
          ],
          "name": "stdout"
        }
      ]
    },
    {
      "cell_type": "markdown",
      "metadata": {
        "id": "SbHe6_iTKvT4"
      },
      "source": [
        "Compiling the model"
      ]
    },
    {
      "cell_type": "code",
      "metadata": {
        "id": "uxlPs0BKJZYH"
      },
      "source": [
        "model.compile(optimizer='sgd', loss='categorical_crossentropy',\n",
        "              metrics=['accuracy'])"
      ],
      "execution_count": null,
      "outputs": []
    },
    {
      "cell_type": "markdown",
      "metadata": {
        "id": "GLtwWq90LHTp"
      },
      "source": [
        "Training the model"
      ]
    },
    {
      "cell_type": "code",
      "metadata": {
        "id": "Rx3vgV6cLJnq",
        "colab": {
          "base_uri": "https://localhost:8080/"
        },
        "outputId": "50ed1897-c83c-4a57-fae8-c2d977a96865"
      },
      "source": [
        "model.fit(X_train, Y_train, batch_size=batch_size, epochs=20, verbose=1)"
      ],
      "execution_count": null,
      "outputs": [
        {
          "output_type": "stream",
          "text": [
            "Epoch 1/20\n",
            "469/469 [==============================] - 15s 31ms/step - loss: 0.9674 - accuracy: 0.7142\n",
            "Epoch 2/20\n",
            "469/469 [==============================] - 15s 32ms/step - loss: 0.5993 - accuracy: 0.8057\n",
            "Epoch 3/20\n",
            "469/469 [==============================] - 15s 32ms/step - loss: 0.5262 - accuracy: 0.8236\n",
            "Epoch 4/20\n",
            "469/469 [==============================] - 15s 32ms/step - loss: 0.4878 - accuracy: 0.8334\n",
            "Epoch 5/20\n",
            "469/469 [==============================] - 15s 32ms/step - loss: 0.4639 - accuracy: 0.8407\n",
            "Epoch 6/20\n",
            "469/469 [==============================] - 15s 31ms/step - loss: 0.4475 - accuracy: 0.8448\n",
            "Epoch 7/20\n",
            "469/469 [==============================] - 15s 32ms/step - loss: 0.4344 - accuracy: 0.8502\n",
            "Epoch 8/20\n",
            "469/469 [==============================] - 15s 32ms/step - loss: 0.4225 - accuracy: 0.8544\n",
            "Epoch 9/20\n",
            "469/469 [==============================] - 15s 32ms/step - loss: 0.4128 - accuracy: 0.8571\n",
            "Epoch 10/20\n",
            "469/469 [==============================] - 15s 32ms/step - loss: 0.4060 - accuracy: 0.8586\n",
            "Epoch 11/20\n",
            "469/469 [==============================] - 15s 32ms/step - loss: 0.3975 - accuracy: 0.8622\n",
            "Epoch 12/20\n",
            "469/469 [==============================] - 15s 32ms/step - loss: 0.3913 - accuracy: 0.8633\n",
            "Epoch 13/20\n",
            "469/469 [==============================] - 15s 31ms/step - loss: 0.3855 - accuracy: 0.8659\n",
            "Epoch 14/20\n",
            "469/469 [==============================] - 15s 31ms/step - loss: 0.3794 - accuracy: 0.8683\n",
            "Epoch 15/20\n",
            "469/469 [==============================] - 15s 32ms/step - loss: 0.3747 - accuracy: 0.8693\n",
            "Epoch 16/20\n",
            "469/469 [==============================] - 15s 31ms/step - loss: 0.3682 - accuracy: 0.8727\n",
            "Epoch 17/20\n",
            "469/469 [==============================] - 15s 31ms/step - loss: 0.3636 - accuracy: 0.8730\n",
            "Epoch 18/20\n",
            "469/469 [==============================] - 15s 31ms/step - loss: 0.3603 - accuracy: 0.8753\n",
            "Epoch 19/20\n",
            "469/469 [==============================] - 15s 32ms/step - loss: 0.3564 - accuracy: 0.8766\n",
            "Epoch 20/20\n",
            "469/469 [==============================] - 15s 32ms/step - loss: 0.3519 - accuracy: 0.8773\n"
          ],
          "name": "stdout"
        },
        {
          "output_type": "execute_result",
          "data": {
            "text/plain": [
              "<tensorflow.python.keras.callbacks.History at 0x7fc41330ec18>"
            ]
          },
          "metadata": {
            "tags": []
          },
          "execution_count": 11
        }
      ]
    },
    {
      "cell_type": "markdown",
      "metadata": {
        "id": "ZTmqi-YSKzRK"
      },
      "source": [
        "Evaluating the model"
      ]
    },
    {
      "cell_type": "code",
      "metadata": {
        "id": "lWBRStUAJZa_",
        "colab": {
          "base_uri": "https://localhost:8080/"
        },
        "outputId": "03c1b7e1-3ba9-43e2-803f-e7ed980c127c"
      },
      "source": [
        "score = model.evaluate(X_test, Y_test, verbose=0)\n",
        "print('Test score:', score[0])\n",
        "print('Test accuracy:', score[1])\n"
      ],
      "execution_count": null,
      "outputs": [
        {
          "output_type": "stream",
          "text": [
            "Test score: 0.39356666803359985\n",
            "Test accuracy: 0.8615000247955322\n"
          ],
          "name": "stdout"
        }
      ]
    },
    {
      "cell_type": "markdown",
      "metadata": {
        "id": "up39ubeUMfyT"
      },
      "source": [
        "test accuracy is 86% with activation = relu, opimizer = sgd, dense 1028, loss=categorical_crossentropy. "
      ]
    },
    {
      "cell_type": "markdown",
      "metadata": {
        "id": "S9s49Uedj0nP"
      },
      "source": [
        "Adding hidden layers:"
      ]
    },
    {
      "cell_type": "code",
      "metadata": {
        "id": "xFQEe2gdj5ZA"
      },
      "source": [
        "model = Sequential()\n",
        "# our first dense layer\n",
        "model.add(Dense(1024, input_shape=(784,), activation=\"relu\"))\n",
        "# our second dense layer\n",
        "model.add(Dense(512, activation=\"relu\"))\n",
        "# our third dense layer\n",
        "model.add(Dense(256, activation=\"relu\"))\n",
        "# our fourth dense layer\n",
        "model.add(Dense(128, activation=\"relu\"))\n",
        "# our fifth dense layer\n",
        "model.add(Dense(64, activation=\"relu\"))\n",
        "# last layer is the output layer.\n",
        "model.add(Dense(10, activation=\"softmax\"))"
      ],
      "execution_count": null,
      "outputs": []
    },
    {
      "cell_type": "code",
      "metadata": {
        "id": "mm6tx30kJZjh"
      },
      "source": [
        "model.compile(optimizer='adam', loss='categorical_crossentropy',\n",
        "              metrics=['accuracy'])"
      ],
      "execution_count": null,
      "outputs": []
    },
    {
      "cell_type": "code",
      "metadata": {
        "id": "6WTCx5gpJZms",
        "colab": {
          "base_uri": "https://localhost:8080/"
        },
        "outputId": "4da15bac-3dd3-4092-fe31-4300dc7c1a52"
      },
      "source": [
        "model.fit(X_train, Y_train, batch_size=batch_size, epochs=20, verbose=1)"
      ],
      "execution_count": null,
      "outputs": [
        {
          "output_type": "stream",
          "text": [
            "Epoch 1/20\n",
            "469/469 [==============================] - 13s 28ms/step - loss: 0.5079 - accuracy: 0.8155\n",
            "Epoch 2/20\n",
            "469/469 [==============================] - 13s 28ms/step - loss: 0.3650 - accuracy: 0.8668\n",
            "Epoch 3/20\n",
            "469/469 [==============================] - 13s 28ms/step - loss: 0.3279 - accuracy: 0.8801\n",
            "Epoch 4/20\n",
            "469/469 [==============================] - 13s 28ms/step - loss: 0.3047 - accuracy: 0.8861\n",
            "Epoch 5/20\n",
            "469/469 [==============================] - 13s 28ms/step - loss: 0.2863 - accuracy: 0.8928\n",
            "Epoch 6/20\n",
            "469/469 [==============================] - 13s 28ms/step - loss: 0.2695 - accuracy: 0.8992\n",
            "Epoch 7/20\n",
            "469/469 [==============================] - 13s 28ms/step - loss: 0.2580 - accuracy: 0.9041\n",
            "Epoch 8/20\n",
            "469/469 [==============================] - 13s 28ms/step - loss: 0.2452 - accuracy: 0.9077\n",
            "Epoch 9/20\n",
            "469/469 [==============================] - 13s 28ms/step - loss: 0.2354 - accuracy: 0.9118\n",
            "Epoch 10/20\n",
            "469/469 [==============================] - 13s 28ms/step - loss: 0.2263 - accuracy: 0.9139\n",
            "Epoch 11/20\n",
            "469/469 [==============================] - 13s 28ms/step - loss: 0.2166 - accuracy: 0.9186\n",
            "Epoch 12/20\n",
            "469/469 [==============================] - 13s 28ms/step - loss: 0.2102 - accuracy: 0.9209\n",
            "Epoch 13/20\n",
            "469/469 [==============================] - 13s 28ms/step - loss: 0.2018 - accuracy: 0.9242\n",
            "Epoch 14/20\n",
            "469/469 [==============================] - 13s 28ms/step - loss: 0.1929 - accuracy: 0.9258\n",
            "Epoch 15/20\n",
            "469/469 [==============================] - 13s 27ms/step - loss: 0.1832 - accuracy: 0.9305\n",
            "Epoch 16/20\n",
            "469/469 [==============================] - 13s 28ms/step - loss: 0.1843 - accuracy: 0.9302\n",
            "Epoch 17/20\n",
            "469/469 [==============================] - 13s 28ms/step - loss: 0.1686 - accuracy: 0.9361\n",
            "Epoch 18/20\n",
            "469/469 [==============================] - 13s 28ms/step - loss: 0.1698 - accuracy: 0.9351\n",
            "Epoch 19/20\n",
            "469/469 [==============================] - 13s 28ms/step - loss: 0.1614 - accuracy: 0.9379\n",
            "Epoch 20/20\n",
            "469/469 [==============================] - 13s 28ms/step - loss: 0.1533 - accuracy: 0.9401\n"
          ],
          "name": "stdout"
        },
        {
          "output_type": "execute_result",
          "data": {
            "text/plain": [
              "<tensorflow.python.keras.callbacks.History at 0x7fc419b2bc18>"
            ]
          },
          "metadata": {
            "tags": []
          },
          "execution_count": 15
        }
      ]
    },
    {
      "cell_type": "code",
      "metadata": {
        "id": "JUAwQlJQJZpY",
        "colab": {
          "base_uri": "https://localhost:8080/"
        },
        "outputId": "9a3599d5-f107-4d13-8692-343b4273b76f"
      },
      "source": [
        "score = model.evaluate(X_test, Y_test, verbose=0)\n",
        "print('Test score:', score[0])\n",
        "print('Test accuracy:', score[1])"
      ],
      "execution_count": null,
      "outputs": [
        {
          "output_type": "stream",
          "text": [
            "Test score: 0.3648262917995453\n",
            "Test accuracy: 0.8956000208854675\n"
          ],
          "name": "stdout"
        }
      ]
    },
    {
      "cell_type": "markdown",
      "metadata": {
        "id": "dtjXOmpKQQpF"
      },
      "source": [
        "Got 89%, Took very long time to process. Performed better than the previous one though with more hidden layers and same batch size. \n"
      ]
    },
    {
      "cell_type": "markdown",
      "metadata": {
        "id": "lRNWMF1dmMaq"
      },
      "source": [
        "Activation function = TAHN"
      ]
    },
    {
      "cell_type": "code",
      "metadata": {
        "id": "27tNlz5JJZtr"
      },
      "source": [
        "model = Sequential()\n",
        "# our first dense layer\n",
        "model.add(Dense(64, input_shape=(784,), activation=\"tanh\"))\n",
        "# our second dense layer\n",
        "model.add(Dense(32, activation=\"tanh\"))\n",
        "# last layer is the output layer.\n",
        "model.add(Dense(10, activation=\"softmax\"))"
      ],
      "execution_count": null,
      "outputs": []
    },
    {
      "cell_type": "code",
      "metadata": {
        "id": "skj38qAfRUt6"
      },
      "source": [
        "model.compile(optimizer='sgd', loss='categorical_crossentropy',\n",
        "              metrics=['accuracy'])"
      ],
      "execution_count": null,
      "outputs": []
    },
    {
      "cell_type": "code",
      "metadata": {
        "id": "HZO4aMpmRdhZ",
        "colab": {
          "base_uri": "https://localhost:8080/"
        },
        "outputId": "176f5412-eb2c-46fb-af8d-d3b7f3c8eba0"
      },
      "source": [
        "model.fit(X_train, Y_train, batch_size=500, epochs=20, verbose=1)"
      ],
      "execution_count": null,
      "outputs": [
        {
          "output_type": "stream",
          "text": [
            "Epoch 1/20\n",
            "120/120 [==============================] - 1s 5ms/step - loss: 1.6792 - accuracy: 0.5090\n",
            "Epoch 2/20\n",
            "120/120 [==============================] - 1s 4ms/step - loss: 1.1382 - accuracy: 0.6746\n",
            "Epoch 3/20\n",
            "120/120 [==============================] - 1s 4ms/step - loss: 0.9529 - accuracy: 0.7116\n",
            "Epoch 4/20\n",
            "120/120 [==============================] - 1s 4ms/step - loss: 0.8494 - accuracy: 0.7369\n",
            "Epoch 5/20\n",
            "120/120 [==============================] - 1s 4ms/step - loss: 0.7820 - accuracy: 0.7546\n",
            "Epoch 6/20\n",
            "120/120 [==============================] - 1s 5ms/step - loss: 0.7335 - accuracy: 0.7663\n",
            "Epoch 7/20\n",
            "120/120 [==============================] - 1s 5ms/step - loss: 0.6963 - accuracy: 0.7768\n",
            "Epoch 8/20\n",
            "120/120 [==============================] - 1s 5ms/step - loss: 0.6663 - accuracy: 0.7854\n",
            "Epoch 9/20\n",
            "120/120 [==============================] - 1s 5ms/step - loss: 0.6415 - accuracy: 0.7920\n",
            "Epoch 10/20\n",
            "120/120 [==============================] - 1s 4ms/step - loss: 0.6203 - accuracy: 0.7982\n",
            "Epoch 11/20\n",
            "120/120 [==============================] - 1s 4ms/step - loss: 0.6023 - accuracy: 0.8019\n",
            "Epoch 12/20\n",
            "120/120 [==============================] - 1s 5ms/step - loss: 0.5866 - accuracy: 0.8069\n",
            "Epoch 13/20\n",
            "120/120 [==============================] - 1s 4ms/step - loss: 0.5729 - accuracy: 0.8110\n",
            "Epoch 14/20\n",
            "120/120 [==============================] - 1s 4ms/step - loss: 0.5609 - accuracy: 0.8134\n",
            "Epoch 15/20\n",
            "120/120 [==============================] - 1s 4ms/step - loss: 0.5502 - accuracy: 0.8163\n",
            "Epoch 16/20\n",
            "120/120 [==============================] - 1s 4ms/step - loss: 0.5407 - accuracy: 0.8181\n",
            "Epoch 17/20\n",
            "120/120 [==============================] - 1s 4ms/step - loss: 0.5321 - accuracy: 0.8211\n",
            "Epoch 18/20\n",
            "120/120 [==============================] - 1s 4ms/step - loss: 0.5242 - accuracy: 0.8227\n",
            "Epoch 19/20\n",
            "120/120 [==============================] - 1s 4ms/step - loss: 0.5170 - accuracy: 0.8240\n",
            "Epoch 20/20\n",
            "120/120 [==============================] - 1s 4ms/step - loss: 0.5107 - accuracy: 0.8257\n"
          ],
          "name": "stdout"
        },
        {
          "output_type": "execute_result",
          "data": {
            "text/plain": [
              "<tensorflow.python.keras.callbacks.History at 0x7fc40f3b6b00>"
            ]
          },
          "metadata": {
            "tags": []
          },
          "execution_count": 19
        }
      ]
    },
    {
      "cell_type": "code",
      "metadata": {
        "id": "clqg20zDRh-A",
        "colab": {
          "base_uri": "https://localhost:8080/"
        },
        "outputId": "96cb8e24-e9f2-42fb-f277-40375046f3a3"
      },
      "source": [
        "score = model.evaluate(X_test, Y_test, verbose=0)\n",
        "print('Test score:', score[0])\n",
        "print('Test accuracy:', score[1])"
      ],
      "execution_count": null,
      "outputs": [
        {
          "output_type": "stream",
          "text": [
            "Test score: 0.5350118279457092\n",
            "Test accuracy: 0.8148000240325928\n"
          ],
          "name": "stdout"
        }
      ]
    },
    {
      "cell_type": "markdown",
      "metadata": {
        "id": "4m1upkj5RuR9"
      },
      "source": [
        "Accuracy is 81% was much faster than previos models. Also I experimented with the number of batch sizes: 55 gave 55%, 120 batch size gave 60% and 500 resulted in 81% and still was very quick. Activation = tanh, optimizer='sgd', loss='hinge'. "
      ]
    },
    {
      "cell_type": "markdown",
      "metadata": {
        "id": "8Sa84dfSntNU"
      },
      "source": [
        "Activation F Sigmoid"
      ]
    },
    {
      "cell_type": "code",
      "metadata": {
        "id": "D_fdpGCbRsXH",
        "colab": {
          "base_uri": "https://localhost:8080/"
        },
        "outputId": "15f12a8d-cb00-4321-8ff0-7a214f5f3a7b"
      },
      "source": [
        "model = Sequential()\n",
        "# our first dense layer\n",
        "model.add(Dense(128, input_shape=(784,), activation=\"sigmoid\"))\n",
        "# our second dense layer\n",
        "model.add(Dense(64, activation=\"sigmoid\"))\n",
        "# last layer is the output layer.\n",
        "model.add(Dense(10, activation=\"softmax\"))\n",
        "\n",
        "model.compile(optimizer='sgd', loss='categorical_crossentropy',\n",
        "              metrics=['accuracy'])\n",
        "\n",
        "# setting verbose=1 prints out some results after each epoch\n",
        "model.fit(X_train, Y_train, batch_size=128, epochs=20, verbose=1)"
      ],
      "execution_count": null,
      "outputs": [
        {
          "output_type": "stream",
          "text": [
            "Epoch 1/20\n",
            "469/469 [==============================] - 1s 3ms/step - loss: 2.2625 - accuracy: 0.3270\n",
            "Epoch 2/20\n",
            "469/469 [==============================] - 1s 3ms/step - loss: 2.1230 - accuracy: 0.5026\n",
            "Epoch 3/20\n",
            "469/469 [==============================] - 1s 3ms/step - loss: 1.9294 - accuracy: 0.5592\n",
            "Epoch 4/20\n",
            "469/469 [==============================] - 1s 3ms/step - loss: 1.7045 - accuracy: 0.5698\n",
            "Epoch 5/20\n",
            "469/469 [==============================] - 1s 3ms/step - loss: 1.5174 - accuracy: 0.5865\n",
            "Epoch 6/20\n",
            "469/469 [==============================] - 1s 3ms/step - loss: 1.3768 - accuracy: 0.6068\n",
            "Epoch 7/20\n",
            "469/469 [==============================] - 1s 3ms/step - loss: 1.2689 - accuracy: 0.6286\n",
            "Epoch 8/20\n",
            "469/469 [==============================] - 1s 3ms/step - loss: 1.1824 - accuracy: 0.6470\n",
            "Epoch 9/20\n",
            "469/469 [==============================] - 1s 3ms/step - loss: 1.1103 - accuracy: 0.6628\n",
            "Epoch 10/20\n",
            "469/469 [==============================] - 1s 3ms/step - loss: 1.0491 - accuracy: 0.6754\n",
            "Epoch 11/20\n",
            "469/469 [==============================] - 1s 3ms/step - loss: 0.9961 - accuracy: 0.6897\n",
            "Epoch 12/20\n",
            "469/469 [==============================] - 1s 3ms/step - loss: 0.9498 - accuracy: 0.6993\n",
            "Epoch 13/20\n",
            "469/469 [==============================] - 1s 3ms/step - loss: 0.9092 - accuracy: 0.7110\n",
            "Epoch 14/20\n",
            "469/469 [==============================] - 1s 3ms/step - loss: 0.8734 - accuracy: 0.7168\n",
            "Epoch 15/20\n",
            "469/469 [==============================] - 1s 3ms/step - loss: 0.8417 - accuracy: 0.7246\n",
            "Epoch 16/20\n",
            "469/469 [==============================] - 1s 3ms/step - loss: 0.8137 - accuracy: 0.7297\n",
            "Epoch 17/20\n",
            "469/469 [==============================] - 1s 3ms/step - loss: 0.7889 - accuracy: 0.7336\n",
            "Epoch 18/20\n",
            "469/469 [==============================] - 1s 3ms/step - loss: 0.7668 - accuracy: 0.7379\n",
            "Epoch 19/20\n",
            "469/469 [==============================] - 1s 3ms/step - loss: 0.7471 - accuracy: 0.7416\n",
            "Epoch 20/20\n",
            "469/469 [==============================] - 1s 3ms/step - loss: 0.7296 - accuracy: 0.7448\n"
          ],
          "name": "stdout"
        },
        {
          "output_type": "execute_result",
          "data": {
            "text/plain": [
              "<tensorflow.python.keras.callbacks.History at 0x7fc40e256fd0>"
            ]
          },
          "metadata": {
            "tags": []
          },
          "execution_count": 21
        }
      ]
    },
    {
      "cell_type": "code",
      "metadata": {
        "id": "kQMh6wWen3EO",
        "colab": {
          "base_uri": "https://localhost:8080/"
        },
        "outputId": "2cfa5ed1-61aa-412e-9f43-75b6dd613008"
      },
      "source": [
        "score = model.evaluate(X_test, Y_test, verbose=0)\n",
        "print('Test score:', score[0])\n",
        "print('Test accuracy:', score[1])"
      ],
      "execution_count": null,
      "outputs": [
        {
          "output_type": "stream",
          "text": [
            "Test score: 0.735900342464447\n",
            "Test accuracy: 0.7390000224113464\n"
          ],
          "name": "stdout"
        }
      ]
    },
    {
      "cell_type": "markdown",
      "metadata": {
        "id": "r3y59FKAri20"
      },
      "source": [
        "Sigmoid performed good too with 73% of accuracy and test score is high too. "
      ]
    },
    {
      "cell_type": "markdown",
      "metadata": {
        "id": "XxRbtfPWsWQK"
      },
      "source": [
        "The best performer so far is the Relu activation with 6 hidden layers. I'll see with the loss function Hinge if the result is going to improve."
      ]
    },
    {
      "cell_type": "markdown",
      "metadata": {
        "id": "I0A2qDJypKhv"
      },
      "source": [
        "Loss function Hinge"
      ]
    },
    {
      "cell_type": "code",
      "metadata": {
        "id": "nf8JjlDCoz4U",
        "colab": {
          "base_uri": "https://localhost:8080/"
        },
        "outputId": "a9659a46-8675-47e2-aa99-4c2c3e45c251"
      },
      "source": [
        "model = Sequential()\n",
        "# our first dense layer\n",
        "model.add(Dense(1024, input_shape=(784,), activation=\"relu\"))\n",
        "# our second dense layer\n",
        "model.add(Dense(512, activation=\"relu\"))\n",
        "# our third dense layer\n",
        "model.add(Dense(256, activation=\"relu\"))\n",
        "# our fourth dense layer\n",
        "model.add(Dense(128, activation=\"relu\"))\n",
        "# our fifth dense layer\n",
        "model.add(Dense(64, activation=\"relu\"))\n",
        "# last layer is the output layer.\n",
        "model.add(Dense(10, activation=\"softmax\"))\n",
        "\n",
        "model.compile(optimizer='sgd', loss='categorical_hinge',\n",
        "              metrics=['accuracy'])\n",
        "\n",
        "# setting verbose=1 prints out some results after each epoch\n",
        "model.fit(X_train, Y_train, batch_size=batch_size, epochs=20, verbose=1)\n"
      ],
      "execution_count": null,
      "outputs": [
        {
          "output_type": "stream",
          "text": [
            "Epoch 1/20\n",
            "469/469 [==============================] - 12s 26ms/step - loss: 0.9999 - accuracy: 0.4423\n",
            "Epoch 2/20\n",
            "469/469 [==============================] - 12s 26ms/step - loss: 0.9789 - accuracy: 0.6204\n",
            "Epoch 3/20\n",
            "469/469 [==============================] - 12s 26ms/step - loss: 0.8145 - accuracy: 0.6277\n",
            "Epoch 4/20\n",
            "469/469 [==============================] - 13s 27ms/step - loss: 0.6131 - accuracy: 0.7024\n",
            "Epoch 5/20\n",
            "469/469 [==============================] - 12s 26ms/step - loss: 0.5114 - accuracy: 0.7823\n",
            "Epoch 6/20\n",
            "469/469 [==============================] - 12s 26ms/step - loss: 0.4297 - accuracy: 0.8091\n",
            "Epoch 7/20\n",
            "469/469 [==============================] - 12s 26ms/step - loss: 0.3869 - accuracy: 0.8199\n",
            "Epoch 8/20\n",
            "469/469 [==============================] - 12s 27ms/step - loss: 0.3611 - accuracy: 0.8298\n",
            "Epoch 9/20\n",
            "469/469 [==============================] - 13s 27ms/step - loss: 0.3442 - accuracy: 0.8368\n",
            "Epoch 10/20\n",
            "469/469 [==============================] - 12s 26ms/step - loss: 0.3284 - accuracy: 0.8446\n",
            "Epoch 11/20\n",
            "469/469 [==============================] - 13s 27ms/step - loss: 0.3176 - accuracy: 0.8478\n",
            "Epoch 12/20\n",
            "469/469 [==============================] - 13s 27ms/step - loss: 0.3118 - accuracy: 0.8500\n",
            "Epoch 13/20\n",
            "469/469 [==============================] - 13s 27ms/step - loss: 0.3043 - accuracy: 0.8532\n",
            "Epoch 14/20\n",
            "469/469 [==============================] - 12s 26ms/step - loss: 0.2996 - accuracy: 0.8552\n",
            "Epoch 15/20\n",
            "469/469 [==============================] - 12s 27ms/step - loss: 0.2933 - accuracy: 0.8574\n",
            "Epoch 16/20\n",
            "469/469 [==============================] - 12s 27ms/step - loss: 0.2872 - accuracy: 0.8605\n",
            "Epoch 17/20\n",
            "469/469 [==============================] - 12s 26ms/step - loss: 0.2846 - accuracy: 0.8619\n",
            "Epoch 18/20\n",
            "469/469 [==============================] - 12s 27ms/step - loss: 0.2798 - accuracy: 0.8638\n",
            "Epoch 19/20\n",
            "469/469 [==============================] - 12s 26ms/step - loss: 0.2741 - accuracy: 0.8663\n",
            "Epoch 20/20\n",
            "469/469 [==============================] - 12s 26ms/step - loss: 0.2717 - accuracy: 0.8676\n"
          ],
          "name": "stdout"
        },
        {
          "output_type": "execute_result",
          "data": {
            "text/plain": [
              "<tensorflow.python.keras.callbacks.History at 0x7fc405f89c18>"
            ]
          },
          "metadata": {
            "tags": []
          },
          "execution_count": 23
        }
      ]
    },
    {
      "cell_type": "code",
      "metadata": {
        "id": "e8fJtas2o04S",
        "colab": {
          "base_uri": "https://localhost:8080/"
        },
        "outputId": "198f055d-f4ac-4eac-e42e-2f37381e99cf"
      },
      "source": [
        "score = model.evaluate(X_test, Y_test, verbose=0)\n",
        "print('Test score:', score[0])\n",
        "print('Test accuracy:', score[1])"
      ],
      "execution_count": null,
      "outputs": [
        {
          "output_type": "stream",
          "text": [
            "Test score: 0.32086116075515747\n",
            "Test accuracy: 0.8429999947547913\n"
          ],
          "name": "stdout"
        }
      ]
    },
    {
      "cell_type": "markdown",
      "metadata": {
        "id": "A1jGoBxSs8kW"
      },
      "source": [
        "very slow, besides performed worse than the categorical_crossentropy loss function with the same params in the model. The test scores in both models are almost same though."
      ]
    },
    {
      "cell_type": "markdown",
      "metadata": {
        "id": "08ZV9zENuVJW"
      },
      "source": [
        "I'll apply the full sample as the batch size on the fastest model."
      ]
    },
    {
      "cell_type": "code",
      "metadata": {
        "id": "4OIoC49xo068",
        "colab": {
          "base_uri": "https://localhost:8080/"
        },
        "outputId": "75a4a387-7248-4586-bce4-a64b6ef60f7b"
      },
      "source": [
        "model = Sequential()\n",
        "# our first dense layer\n",
        "model.add(Dense(64, input_shape=(784,), activation=\"tanh\"))\n",
        "# our second dense layer\n",
        "model.add(Dense(32, activation=\"tanh\"))\n",
        "# last layer is the output layer.\n",
        "model.add(Dense(10, activation=\"softmax\"))\n",
        "\n",
        "model.compile(optimizer='sgd', loss='categorical_hinge',\n",
        "              metrics=['accuracy'])\n",
        "\n",
        "# setting verbose=1 prints out some results after each epoch\n",
        "model.fit(X_train, Y_train, batch_size=X_train.shape[0], epochs=20, verbose=1)"
      ],
      "execution_count": null,
      "outputs": [
        {
          "output_type": "stream",
          "text": [
            "Epoch 1/20\n",
            "1/1 [==============================] - 0s 2ms/step - loss: 1.0877 - accuracy: 0.1023\n",
            "Epoch 2/20\n",
            "1/1 [==============================] - 0s 1ms/step - loss: 1.0812 - accuracy: 0.1046\n",
            "Epoch 3/20\n",
            "1/1 [==============================] - 0s 1ms/step - loss: 1.0764 - accuracy: 0.1085\n",
            "Epoch 4/20\n",
            "1/1 [==============================] - 0s 1ms/step - loss: 1.0727 - accuracy: 0.1132\n",
            "Epoch 5/20\n",
            "1/1 [==============================] - 0s 1ms/step - loss: 1.0699 - accuracy: 0.1185\n",
            "Epoch 6/20\n",
            "1/1 [==============================] - 0s 1ms/step - loss: 1.0675 - accuracy: 0.1243\n",
            "Epoch 7/20\n",
            "1/1 [==============================] - 0s 1ms/step - loss: 1.0656 - accuracy: 0.1304\n",
            "Epoch 8/20\n",
            "1/1 [==============================] - 0s 1ms/step - loss: 1.0639 - accuracy: 0.1365\n",
            "Epoch 9/20\n",
            "1/1 [==============================] - 0s 1ms/step - loss: 1.0624 - accuracy: 0.1427\n",
            "Epoch 10/20\n",
            "1/1 [==============================] - 0s 1ms/step - loss: 1.0610 - accuracy: 0.1481\n",
            "Epoch 11/20\n",
            "1/1 [==============================] - 0s 1ms/step - loss: 1.0597 - accuracy: 0.1538\n",
            "Epoch 12/20\n",
            "1/1 [==============================] - 0s 1ms/step - loss: 1.0586 - accuracy: 0.1587\n",
            "Epoch 13/20\n",
            "1/1 [==============================] - 0s 1ms/step - loss: 1.0574 - accuracy: 0.1638\n",
            "Epoch 14/20\n",
            "1/1 [==============================] - 0s 1ms/step - loss: 1.0564 - accuracy: 0.1692\n",
            "Epoch 15/20\n",
            "1/1 [==============================] - 0s 2ms/step - loss: 1.0554 - accuracy: 0.1742\n",
            "Epoch 16/20\n",
            "1/1 [==============================] - 0s 1ms/step - loss: 1.0545 - accuracy: 0.1787\n",
            "Epoch 17/20\n",
            "1/1 [==============================] - 0s 1ms/step - loss: 1.0536 - accuracy: 0.1827\n",
            "Epoch 18/20\n",
            "1/1 [==============================] - 0s 2ms/step - loss: 1.0527 - accuracy: 0.1866\n",
            "Epoch 19/20\n",
            "1/1 [==============================] - 0s 1ms/step - loss: 1.0518 - accuracy: 0.1903\n",
            "Epoch 20/20\n",
            "1/1 [==============================] - 0s 1ms/step - loss: 1.0510 - accuracy: 0.1939\n"
          ],
          "name": "stdout"
        },
        {
          "output_type": "execute_result",
          "data": {
            "text/plain": [
              "<tensorflow.python.keras.callbacks.History at 0x7fc404d92ac8>"
            ]
          },
          "metadata": {
            "tags": []
          },
          "execution_count": 26
        }
      ]
    },
    {
      "cell_type": "code",
      "metadata": {
        "id": "DZPBI2WGo091",
        "colab": {
          "base_uri": "https://localhost:8080/"
        },
        "outputId": "40c4a144-a8d6-49c3-d5c0-b3726272d5ce"
      },
      "source": [
        "score = model.evaluate(X_test, Y_test, verbose=0)\n",
        "print('Test score:', score[0])\n",
        "print('Test accuracy:', score[1])"
      ],
      "execution_count": null,
      "outputs": [
        {
          "output_type": "stream",
          "text": [
            "Test score: 1.0495413541793823\n",
            "Test accuracy: 0.2070000022649765\n"
          ],
          "name": "stdout"
        }
      ]
    },
    {
      "cell_type": "markdown",
      "metadata": {
        "id": "WRrLb52jvw3M"
      },
      "source": [
        "Poor result, only 20% on accuracy with tahn activation and full sample. "
      ]
    },
    {
      "cell_type": "markdown",
      "metadata": {
        "id": "h7SdpYh_wIgJ"
      },
      "source": [
        "ANN models with different learning rates for stochastic gradient descent."
      ]
    },
    {
      "cell_type": "code",
      "metadata": {
        "id": "v0Ce2B8ewIIP"
      },
      "source": [
        "from tensorflow.keras import optimizers\n",
        "sgd_001 = optimizers.SGD(lr=0.01)\n",
        "sgd_100 = optimizers.SGD(lr=100)\n",
        "sgd_0000001 = optimizers.SGD(lr=0.0000001)"
      ],
      "execution_count": null,
      "outputs": []
    },
    {
      "cell_type": "code",
      "metadata": {
        "id": "wfPZSG6qo1AP",
        "colab": {
          "base_uri": "https://localhost:8080/"
        },
        "outputId": "9e796d0c-2e1c-46ce-81af-68bc4b1928b2"
      },
      "source": [
        "model = Sequential()\n",
        "# our first dense layer\n",
        "model.add(Dense(64, input_shape=(784,), activation=\"tanh\"))\n",
        "# our second dense layer\n",
        "model.add(Dense(32, activation=\"tanh\"))\n",
        "# last layer is the output layer.\n",
        "model.add(Dense(10, activation=\"softmax\"))\n",
        "\n",
        "model.compile(optimizer=sgd_001, loss='categorical_hinge',\n",
        "              metrics=['accuracy'])\n",
        "\n",
        "# setting verbose=1 prints out some results after each epoch\n",
        "model.fit(X_train, Y_train, batch_size=128, epochs=20, verbose=1)"
      ],
      "execution_count": null,
      "outputs": [
        {
          "output_type": "stream",
          "text": [
            "Epoch 1/20\n",
            "469/469 [==============================] - 1s 2ms/step - loss: 0.9837 - accuracy: 0.4525\n",
            "Epoch 2/20\n",
            "469/469 [==============================] - 1s 2ms/step - loss: 0.8325 - accuracy: 0.6612\n",
            "Epoch 3/20\n",
            "469/469 [==============================] - 1s 2ms/step - loss: 0.7055 - accuracy: 0.7033\n",
            "Epoch 4/20\n",
            "469/469 [==============================] - 1s 2ms/step - loss: 0.6246 - accuracy: 0.7423\n",
            "Epoch 5/20\n",
            "469/469 [==============================] - 1s 2ms/step - loss: 0.5661 - accuracy: 0.7632\n",
            "Epoch 6/20\n",
            "469/469 [==============================] - 1s 2ms/step - loss: 0.5233 - accuracy: 0.7782\n",
            "Epoch 7/20\n",
            "469/469 [==============================] - 1s 2ms/step - loss: 0.4910 - accuracy: 0.7903\n",
            "Epoch 8/20\n",
            "469/469 [==============================] - 1s 2ms/step - loss: 0.4657 - accuracy: 0.8006\n",
            "Epoch 9/20\n",
            "469/469 [==============================] - 1s 2ms/step - loss: 0.4450 - accuracy: 0.8074\n",
            "Epoch 10/20\n",
            "469/469 [==============================] - 1s 2ms/step - loss: 0.4281 - accuracy: 0.8132\n",
            "Epoch 11/20\n",
            "469/469 [==============================] - 1s 2ms/step - loss: 0.4142 - accuracy: 0.8164\n",
            "Epoch 12/20\n",
            "469/469 [==============================] - 1s 2ms/step - loss: 0.4025 - accuracy: 0.8201\n",
            "Epoch 13/20\n",
            "469/469 [==============================] - 1s 2ms/step - loss: 0.3928 - accuracy: 0.8231\n",
            "Epoch 14/20\n",
            "469/469 [==============================] - 1s 2ms/step - loss: 0.3844 - accuracy: 0.8253\n",
            "Epoch 15/20\n",
            "469/469 [==============================] - 1s 2ms/step - loss: 0.3772 - accuracy: 0.8274\n",
            "Epoch 16/20\n",
            "469/469 [==============================] - 1s 2ms/step - loss: 0.3707 - accuracy: 0.8304\n",
            "Epoch 17/20\n",
            "469/469 [==============================] - 1s 2ms/step - loss: 0.3647 - accuracy: 0.8333\n",
            "Epoch 18/20\n",
            "469/469 [==============================] - 1s 2ms/step - loss: 0.3597 - accuracy: 0.8342\n",
            "Epoch 19/20\n",
            "469/469 [==============================] - 1s 2ms/step - loss: 0.3549 - accuracy: 0.8364\n",
            "Epoch 20/20\n",
            "469/469 [==============================] - 1s 2ms/step - loss: 0.3503 - accuracy: 0.8382\n"
          ],
          "name": "stdout"
        },
        {
          "output_type": "execute_result",
          "data": {
            "text/plain": [
              "<tensorflow.python.keras.callbacks.History at 0x7fc405e7cf98>"
            ]
          },
          "metadata": {
            "tags": []
          },
          "execution_count": 29
        }
      ]
    },
    {
      "cell_type": "code",
      "metadata": {
        "id": "7s1Dzx1ro1Cq",
        "colab": {
          "base_uri": "https://localhost:8080/"
        },
        "outputId": "3ef390b7-675a-43e1-dbfb-82361e236318"
      },
      "source": [
        "score = model.evaluate(X_test, Y_test, verbose=0)\n",
        "print('Test score:', score[0])\n",
        "print('Test accuracy:', score[1])"
      ],
      "execution_count": null,
      "outputs": [
        {
          "output_type": "stream",
          "text": [
            "Test score: 0.3665217161178589\n",
            "Test accuracy: 0.8274999856948853\n"
          ],
          "name": "stdout"
        }
      ]
    },
    {
      "cell_type": "markdown",
      "metadata": {
        "id": "_5CIN8PXxKik"
      },
      "source": [
        "wow, I'm seriously impressed, adding only SGD = 0.01 learning rate improved the previos worse accuracy to a very good 82%, test score is still low though. "
      ]
    },
    {
      "cell_type": "code",
      "metadata": {
        "id": "3NJvTQcuo1Fg",
        "colab": {
          "base_uri": "https://localhost:8080/"
        },
        "outputId": "d14a3777-57b2-4908-a405-5f4000d680b8"
      },
      "source": [
        "model = Sequential()\n",
        "# our first dense layer\n",
        "model.add(Dense(64, input_shape=(784,), activation=\"tanh\"))\n",
        "# our second dense layer\n",
        "model.add(Dense(32, activation=\"tanh\"))\n",
        "# last layer is the output layer.\n",
        "model.add(Dense(10, activation=\"softmax\"))\n",
        "\n",
        "model.compile(optimizer=sgd_100, loss='categorical_hinge',\n",
        "              metrics=['accuracy'])\n",
        "\n",
        "# setting verbose=1 prints out some results after each epoch\n",
        "model.fit(X_train, Y_train, batch_size=128, epochs=20, verbose=1)"
      ],
      "execution_count": null,
      "outputs": [
        {
          "output_type": "stream",
          "text": [
            "Epoch 1/20\n",
            "469/469 [==============================] - 1s 2ms/step - loss: 1.7984 - accuracy: 0.1000\n",
            "Epoch 2/20\n",
            "469/469 [==============================] - 1s 2ms/step - loss: 1.8000 - accuracy: 0.1000\n",
            "Epoch 3/20\n",
            "469/469 [==============================] - 1s 2ms/step - loss: 1.8000 - accuracy: 0.1000\n",
            "Epoch 4/20\n",
            "469/469 [==============================] - 1s 2ms/step - loss: 1.8000 - accuracy: 0.1000\n",
            "Epoch 5/20\n",
            "469/469 [==============================] - 1s 2ms/step - loss: 1.8000 - accuracy: 0.1000\n",
            "Epoch 6/20\n",
            "469/469 [==============================] - 1s 2ms/step - loss: 1.8000 - accuracy: 0.1000\n",
            "Epoch 7/20\n",
            "469/469 [==============================] - 1s 2ms/step - loss: 1.8000 - accuracy: 0.1000\n",
            "Epoch 8/20\n",
            "469/469 [==============================] - 1s 2ms/step - loss: 1.8000 - accuracy: 0.1000\n",
            "Epoch 9/20\n",
            "469/469 [==============================] - 1s 2ms/step - loss: 1.8000 - accuracy: 0.1000\n",
            "Epoch 10/20\n",
            "469/469 [==============================] - 1s 2ms/step - loss: 1.8000 - accuracy: 0.1000\n",
            "Epoch 11/20\n",
            "469/469 [==============================] - 1s 2ms/step - loss: 1.8000 - accuracy: 0.1000\n",
            "Epoch 12/20\n",
            "469/469 [==============================] - 1s 2ms/step - loss: 1.8000 - accuracy: 0.1000\n",
            "Epoch 13/20\n",
            "469/469 [==============================] - 1s 2ms/step - loss: 1.8000 - accuracy: 0.1000\n",
            "Epoch 14/20\n",
            "469/469 [==============================] - 1s 2ms/step - loss: 1.8000 - accuracy: 0.1000\n",
            "Epoch 15/20\n",
            "469/469 [==============================] - 1s 2ms/step - loss: 1.8000 - accuracy: 0.1000\n",
            "Epoch 16/20\n",
            "469/469 [==============================] - 1s 2ms/step - loss: 1.8000 - accuracy: 0.1000\n",
            "Epoch 17/20\n",
            "469/469 [==============================] - 1s 2ms/step - loss: 1.8000 - accuracy: 0.1000\n",
            "Epoch 18/20\n",
            "469/469 [==============================] - 1s 2ms/step - loss: 1.8000 - accuracy: 0.1000\n",
            "Epoch 19/20\n",
            "469/469 [==============================] - 1s 2ms/step - loss: 1.8000 - accuracy: 0.1000\n",
            "Epoch 20/20\n",
            "469/469 [==============================] - 1s 2ms/step - loss: 1.8000 - accuracy: 0.1000\n"
          ],
          "name": "stdout"
        },
        {
          "output_type": "execute_result",
          "data": {
            "text/plain": [
              "<tensorflow.python.keras.callbacks.History at 0x7fc402b91d68>"
            ]
          },
          "metadata": {
            "tags": []
          },
          "execution_count": 31
        }
      ]
    },
    {
      "cell_type": "code",
      "metadata": {
        "id": "WvmTcz6Mo1IF",
        "colab": {
          "base_uri": "https://localhost:8080/"
        },
        "outputId": "d61ed94e-07e5-493d-f6be-8320ca9a8495"
      },
      "source": [
        "score = model.evaluate(X_test, Y_test, verbose=0)\n",
        "print('Test score:', score[0])\n",
        "print('Test accuracy:', score[1])"
      ],
      "execution_count": null,
      "outputs": [
        {
          "output_type": "stream",
          "text": [
            "Test score: 1.7999999523162842\n",
            "Test accuracy: 0.10000000149011612\n"
          ],
          "name": "stdout"
        }
      ]
    },
    {
      "cell_type": "markdown",
      "metadata": {
        "id": "xtENySoNxuaD"
      },
      "source": [
        "the model performed very quick but the accuracy test is the lowest among all the previos examples. "
      ]
    },
    {
      "cell_type": "code",
      "metadata": {
        "id": "qdNlNqt7o1LN",
        "colab": {
          "base_uri": "https://localhost:8080/"
        },
        "outputId": "8a02711c-ad84-4b73-c7e7-a60356320804"
      },
      "source": [
        "model = Sequential()\n",
        "# our first dense layer\n",
        "model.add(Dense(64, input_shape=(784,), activation=\"tanh\"))\n",
        "# our second dense layer\n",
        "model.add(Dense(32, activation=\"tanh\"))\n",
        "# last layer is the output layer.\n",
        "model.add(Dense(10, activation=\"softmax\"))\n",
        "\n",
        "model.compile(optimizer=sgd_0000001, loss='categorical_hinge',\n",
        "              metrics=['accuracy'])\n",
        "\n",
        "# setting verbose=1 prints out some results after each epoch\n",
        "model.fit(X_train, Y_train, batch_size=128, epochs=20, verbose=1)"
      ],
      "execution_count": null,
      "outputs": [
        {
          "output_type": "stream",
          "text": [
            "Epoch 1/20\n",
            "469/469 [==============================] - 1s 2ms/step - loss: 1.0771 - accuracy: 0.1324\n",
            "Epoch 2/20\n",
            "469/469 [==============================] - 1s 2ms/step - loss: 1.0771 - accuracy: 0.1324\n",
            "Epoch 3/20\n",
            "469/469 [==============================] - 1s 2ms/step - loss: 1.0771 - accuracy: 0.1324\n",
            "Epoch 4/20\n",
            "469/469 [==============================] - 2s 5ms/step - loss: 1.0771 - accuracy: 0.1324\n",
            "Epoch 5/20\n",
            "469/469 [==============================] - 3s 6ms/step - loss: 1.0771 - accuracy: 0.1324\n",
            "Epoch 6/20\n",
            "469/469 [==============================] - 3s 6ms/step - loss: 1.0771 - accuracy: 0.1324\n",
            "Epoch 7/20\n",
            "469/469 [==============================] - 3s 6ms/step - loss: 1.0771 - accuracy: 0.1324\n",
            "Epoch 8/20\n",
            "469/469 [==============================] - 3s 6ms/step - loss: 1.0771 - accuracy: 0.1324\n",
            "Epoch 9/20\n",
            "469/469 [==============================] - 2s 5ms/step - loss: 1.0771 - accuracy: 0.1324\n",
            "Epoch 10/20\n",
            "469/469 [==============================] - 3s 5ms/step - loss: 1.0771 - accuracy: 0.1324\n",
            "Epoch 11/20\n",
            "469/469 [==============================] - 3s 6ms/step - loss: 1.0771 - accuracy: 0.1324\n",
            "Epoch 12/20\n",
            "469/469 [==============================] - 3s 6ms/step - loss: 1.0771 - accuracy: 0.1324\n",
            "Epoch 13/20\n",
            "469/469 [==============================] - 3s 6ms/step - loss: 1.0771 - accuracy: 0.1324\n",
            "Epoch 14/20\n",
            "469/469 [==============================] - 1s 2ms/step - loss: 1.0771 - accuracy: 0.1324\n",
            "Epoch 15/20\n",
            "469/469 [==============================] - 1s 2ms/step - loss: 1.0771 - accuracy: 0.1324\n",
            "Epoch 16/20\n",
            "469/469 [==============================] - 3s 6ms/step - loss: 1.0771 - accuracy: 0.1324\n",
            "Epoch 17/20\n",
            "469/469 [==============================] - 3s 7ms/step - loss: 1.0771 - accuracy: 0.1324\n",
            "Epoch 18/20\n",
            "469/469 [==============================] - 3s 6ms/step - loss: 1.0771 - accuracy: 0.1324\n",
            "Epoch 19/20\n",
            "469/469 [==============================] - 3s 6ms/step - loss: 1.0771 - accuracy: 0.1324\n",
            "Epoch 20/20\n",
            "469/469 [==============================] - 2s 5ms/step - loss: 1.0771 - accuracy: 0.1324\n"
          ],
          "name": "stdout"
        },
        {
          "output_type": "execute_result",
          "data": {
            "text/plain": [
              "<tensorflow.python.keras.callbacks.History at 0x7fc401abfc50>"
            ]
          },
          "metadata": {
            "tags": []
          },
          "execution_count": 33
        }
      ]
    },
    {
      "cell_type": "code",
      "metadata": {
        "id": "pcQbOBhco1OK",
        "colab": {
          "base_uri": "https://localhost:8080/"
        },
        "outputId": "8a3846bd-04f6-4f29-b52c-f329499f7211"
      },
      "source": [
        "score = model.evaluate(X_test, Y_test, verbose=0)\n",
        "print('Test score:', score[0])\n",
        "print('Test accuracy:', score[1])"
      ],
      "execution_count": null,
      "outputs": [
        {
          "output_type": "stream",
          "text": [
            "Test score: 1.0770572423934937\n",
            "Test accuracy: 0.13510000705718994\n"
          ],
          "name": "stdout"
        }
      ]
    },
    {
      "cell_type": "markdown",
      "metadata": {
        "id": "hEFNcHIm0I9h"
      },
      "source": [
        "did't improve with the optimizer of sgd_0000001. So it means that 0.01 worked out the best, 100 was too large and 0.0000001 was too slow and didn't work well at all with the given model."
      ]
    },
    {
      "cell_type": "markdown",
      "metadata": {
        "id": "3lIuB1uW0vOZ"
      },
      "source": [
        "Now, I'll use the second best performer: activation=relu, with more hidden layers, with the best optimizer of 0.01 and loss=categorical_hinge, batch size 128. "
      ]
    },
    {
      "cell_type": "code",
      "metadata": {
        "id": "iSxcMtR5o1Q-",
        "colab": {
          "base_uri": "https://localhost:8080/"
        },
        "outputId": "7547d140-485e-4cfe-c357-be630d9e0414"
      },
      "source": [
        "model = Sequential()\n",
        "# our first dense layer\n",
        "model.add(Dense(1024, input_shape=(784,), activation=\"relu\"))\n",
        "# our second dense layer\n",
        "model.add(Dense(512, activation=\"relu\"))\n",
        "# our third dense layer\n",
        "model.add(Dense(256, activation=\"relu\"))\n",
        "# our fourth dense layer\n",
        "model.add(Dense(128, activation=\"relu\"))\n",
        "# our fifth dense layer\n",
        "model.add(Dense(64, activation=\"relu\"))\n",
        "# last layer is the output layer.\n",
        "model.add(Dense(10, activation=\"softmax\"))\n",
        "\n",
        "model.compile(optimizer=sgd_001, loss='categorical_hinge',\n",
        "              metrics=['accuracy'])\n",
        "\n",
        "# setting verbose=1 prints out some results after each epoch\n",
        "model.fit(X_train, Y_train, batch_size=batch_size, epochs=20, verbose=1)"
      ],
      "execution_count": null,
      "outputs": [
        {
          "output_type": "stream",
          "text": [
            "Epoch 1/20\n",
            "469/469 [==============================] - 14s 30ms/step - loss: 0.9987 - accuracy: 0.5205\n",
            "Epoch 2/20\n",
            "469/469 [==============================] - 14s 29ms/step - loss: 0.9814 - accuracy: 0.6687\n",
            "Epoch 3/20\n",
            "469/469 [==============================] - 14s 30ms/step - loss: 0.8404 - accuracy: 0.6399\n",
            "Epoch 4/20\n",
            "469/469 [==============================] - 14s 30ms/step - loss: 0.6255 - accuracy: 0.7046\n",
            "Epoch 5/20\n",
            "469/469 [==============================] - 14s 30ms/step - loss: 0.5159 - accuracy: 0.7713\n",
            "Epoch 6/20\n",
            "469/469 [==============================] - 14s 29ms/step - loss: 0.4388 - accuracy: 0.8002\n",
            "Epoch 7/20\n",
            "469/469 [==============================] - 14s 30ms/step - loss: 0.3987 - accuracy: 0.8164\n",
            "Epoch 8/20\n",
            "469/469 [==============================] - 14s 30ms/step - loss: 0.3717 - accuracy: 0.8249\n",
            "Epoch 9/20\n",
            "469/469 [==============================] - 14s 31ms/step - loss: 0.3537 - accuracy: 0.8313\n",
            "Epoch 10/20\n",
            "469/469 [==============================] - 13s 29ms/step - loss: 0.3382 - accuracy: 0.8392\n",
            "Epoch 11/20\n",
            "469/469 [==============================] - 14s 30ms/step - loss: 0.3269 - accuracy: 0.8441\n",
            "Epoch 12/20\n",
            "469/469 [==============================] - 14s 31ms/step - loss: 0.3187 - accuracy: 0.8466\n",
            "Epoch 13/20\n",
            "469/469 [==============================] - 15s 31ms/step - loss: 0.3110 - accuracy: 0.8498\n",
            "Epoch 14/20\n",
            "469/469 [==============================] - 14s 30ms/step - loss: 0.3057 - accuracy: 0.8521\n",
            "Epoch 15/20\n",
            "469/469 [==============================] - 14s 30ms/step - loss: 0.2981 - accuracy: 0.8558\n",
            "Epoch 16/20\n",
            "469/469 [==============================] - 14s 31ms/step - loss: 0.2937 - accuracy: 0.8576\n",
            "Epoch 17/20\n",
            "469/469 [==============================] - 15s 31ms/step - loss: 0.2889 - accuracy: 0.8603\n",
            "Epoch 18/20\n",
            "469/469 [==============================] - 14s 30ms/step - loss: 0.2848 - accuracy: 0.8611\n",
            "Epoch 19/20\n",
            "469/469 [==============================] - 14s 31ms/step - loss: 0.2796 - accuracy: 0.8638\n",
            "Epoch 20/20\n",
            "469/469 [==============================] - 14s 30ms/step - loss: 0.2761 - accuracy: 0.8660\n"
          ],
          "name": "stdout"
        },
        {
          "output_type": "execute_result",
          "data": {
            "text/plain": [
              "<tensorflow.python.keras.callbacks.History at 0x7fc400975f28>"
            ]
          },
          "metadata": {
            "tags": []
          },
          "execution_count": 35
        }
      ]
    },
    {
      "cell_type": "markdown",
      "metadata": {
        "id": "jwcVI1391cyP"
      },
      "source": [
        "This was the best performer: activation=relu, with more hidden layers, with the best optimizer of 0.01 and loss=categorical_crossentropy, batch size 128. "
      ]
    },
    {
      "cell_type": "code",
      "metadata": {
        "id": "VtEW3Ur6o1UN",
        "colab": {
          "base_uri": "https://localhost:8080/"
        },
        "outputId": "78b841c5-0990-4655-e707-b58ed683cbe2"
      },
      "source": [
        "model = Sequential()\n",
        "# our first dense layer\n",
        "model.add(Dense(1024, input_shape=(784,), activation=\"relu\"))\n",
        "# our second dense layer\n",
        "model.add(Dense(512, activation=\"relu\"))\n",
        "# our third dense layer\n",
        "model.add(Dense(256, activation=\"relu\"))\n",
        "# our fourth dense layer\n",
        "model.add(Dense(128, activation=\"relu\"))\n",
        "# our fifth dense layer\n",
        "model.add(Dense(64, activation=\"relu\"))\n",
        "# last layer is the output layer.\n",
        "model.add(Dense(10, activation=\"softmax\"))\n",
        "\n",
        "model.compile(optimizer=sgd_001, loss='categorical_crossentropy',\n",
        "              metrics=['accuracy'])\n",
        "\n",
        "# setting verbose=1 prints out some results after each epoch\n",
        "model.fit(X_train, Y_train, batch_size=batch_size, epochs=20, verbose=1)"
      ],
      "execution_count": null,
      "outputs": [
        {
          "output_type": "stream",
          "text": [
            "Epoch 1/20\n",
            "469/469 [==============================] - 14s 29ms/step - loss: 1.1150 - accuracy: 0.6333\n",
            "Epoch 2/20\n",
            "469/469 [==============================] - 14s 30ms/step - loss: 0.5912 - accuracy: 0.7950\n",
            "Epoch 3/20\n",
            "469/469 [==============================] - 13s 27ms/step - loss: 0.5075 - accuracy: 0.8226\n",
            "Epoch 4/20\n",
            "469/469 [==============================] - 13s 28ms/step - loss: 0.4693 - accuracy: 0.8350\n",
            "Epoch 5/20\n",
            "469/469 [==============================] - 14s 29ms/step - loss: 0.4445 - accuracy: 0.8435\n",
            "Epoch 6/20\n",
            "469/469 [==============================] - 13s 28ms/step - loss: 0.4228 - accuracy: 0.8510\n",
            "Epoch 7/20\n",
            "469/469 [==============================] - 13s 28ms/step - loss: 0.4071 - accuracy: 0.8567\n",
            "Epoch 8/20\n",
            "469/469 [==============================] - 13s 28ms/step - loss: 0.3911 - accuracy: 0.8616\n",
            "Epoch 9/20\n",
            "469/469 [==============================] - 13s 28ms/step - loss: 0.3808 - accuracy: 0.8640\n",
            "Epoch 10/20\n",
            "469/469 [==============================] - 13s 28ms/step - loss: 0.3683 - accuracy: 0.8696\n",
            "Epoch 11/20\n",
            "469/469 [==============================] - 14s 30ms/step - loss: 0.3587 - accuracy: 0.8735\n",
            "Epoch 12/20\n",
            "469/469 [==============================] - 14s 30ms/step - loss: 0.3503 - accuracy: 0.8755\n",
            "Epoch 13/20\n",
            "469/469 [==============================] - 14s 29ms/step - loss: 0.3415 - accuracy: 0.8784\n",
            "Epoch 14/20\n",
            "469/469 [==============================] - 14s 29ms/step - loss: 0.3328 - accuracy: 0.8807\n",
            "Epoch 15/20\n",
            "469/469 [==============================] - 18s 38ms/step - loss: 0.3256 - accuracy: 0.8839\n",
            "Epoch 16/20\n",
            "469/469 [==============================] - 14s 29ms/step - loss: 0.3195 - accuracy: 0.8852\n",
            "Epoch 17/20\n",
            "469/469 [==============================] - 14s 29ms/step - loss: 0.3126 - accuracy: 0.8868\n",
            "Epoch 18/20\n",
            "469/469 [==============================] - 14s 31ms/step - loss: 0.3052 - accuracy: 0.8901\n",
            "Epoch 19/20\n",
            "469/469 [==============================] - 14s 31ms/step - loss: 0.2998 - accuracy: 0.8917\n",
            "Epoch 20/20\n",
            "469/469 [==============================] - 16s 35ms/step - loss: 0.2937 - accuracy: 0.8938\n"
          ],
          "name": "stdout"
        },
        {
          "output_type": "execute_result",
          "data": {
            "text/plain": [
              "<tensorflow.python.keras.callbacks.History at 0x7fc40007ffd0>"
            ]
          },
          "metadata": {
            "tags": []
          },
          "execution_count": 36
        }
      ]
    },
    {
      "cell_type": "code",
      "metadata": {
        "id": "vhInjGLR3h1g",
        "colab": {
          "base_uri": "https://localhost:8080/"
        },
        "outputId": "f3eaf4e7-c5b5-47b4-d35f-7c2b0f45a90e"
      },
      "source": [
        "score = model.evaluate(X_test, Y_test, verbose=0)\n",
        "print('Test score:', score[0])\n",
        "print('Test accuracy:', score[1])"
      ],
      "execution_count": null,
      "outputs": [
        {
          "output_type": "stream",
          "text": [
            "Test score: 0.3784075081348419\n",
            "Test accuracy: 0.8615999817848206\n"
          ],
          "name": "stdout"
        }
      ]
    },
    {
      "cell_type": "markdown",
      "metadata": {
        "id": "KFOwcwB23bub"
      },
      "source": [
        "hm, interesting, so the model performs better without the optimizer set to \n",
        "0.01, but with 'adam'"
      ]
    },
    {
      "cell_type": "markdown",
      "metadata": {
        "id": "6pmIpjeJ4LzM"
      },
      "source": [
        ""
      ]
    },
    {
      "cell_type": "markdown",
      "metadata": {
        "id": "qxHcCh4L4NHp"
      },
      "source": [
        "So far the best model accuracy was 89% with more hidden layers, activation relu, loss - categorical cross entropy, batch size 128."
      ]
    },
    {
      "cell_type": "code",
      "metadata": {
        "id": "XRJGea7po1Z2"
      },
      "source": [
        ""
      ],
      "execution_count": null,
      "outputs": []
    },
    {
      "cell_type": "code",
      "metadata": {
        "id": "qg2UWB4do1ci"
      },
      "source": [
        ""
      ],
      "execution_count": null,
      "outputs": []
    },
    {
      "cell_type": "code",
      "metadata": {
        "id": "GucrZBtfo1fh"
      },
      "source": [
        ""
      ],
      "execution_count": null,
      "outputs": []
    },
    {
      "cell_type": "code",
      "metadata": {
        "id": "jMNUXV9To1h_"
      },
      "source": [
        ""
      ],
      "execution_count": null,
      "outputs": []
    },
    {
      "cell_type": "code",
      "metadata": {
        "id": "iak1UMT2o1lO"
      },
      "source": [
        ""
      ],
      "execution_count": null,
      "outputs": []
    },
    {
      "cell_type": "code",
      "metadata": {
        "id": "n1c-L77-o1oR"
      },
      "source": [
        ""
      ],
      "execution_count": null,
      "outputs": []
    },
    {
      "cell_type": "code",
      "metadata": {
        "id": "YWRQNFebo1rN"
      },
      "source": [
        ""
      ],
      "execution_count": null,
      "outputs": []
    },
    {
      "cell_type": "code",
      "metadata": {
        "id": "29BjESHmo1t9"
      },
      "source": [
        ""
      ],
      "execution_count": null,
      "outputs": []
    },
    {
      "cell_type": "code",
      "metadata": {
        "id": "CyvYmm8Mo1yH"
      },
      "source": [
        ""
      ],
      "execution_count": null,
      "outputs": []
    },
    {
      "cell_type": "code",
      "metadata": {
        "id": "OudPUxZho11Z"
      },
      "source": [
        ""
      ],
      "execution_count": null,
      "outputs": []
    },
    {
      "cell_type": "code",
      "metadata": {
        "id": "1u7Ea2dqo14a"
      },
      "source": [
        ""
      ],
      "execution_count": null,
      "outputs": []
    },
    {
      "cell_type": "code",
      "metadata": {
        "id": "qc8KU5vGo17j"
      },
      "source": [
        ""
      ],
      "execution_count": null,
      "outputs": []
    }
  ]
}