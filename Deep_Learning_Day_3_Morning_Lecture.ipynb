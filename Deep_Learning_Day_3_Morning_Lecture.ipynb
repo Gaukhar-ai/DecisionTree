{
  "nbformat": 4,
  "nbformat_minor": 0,
  "metadata": {
    "colab": {
      "name": "Deep Learning Day 3 Morning Lecture.ipynb",
      "provenance": [],
      "include_colab_link": true
    },
    "kernelspec": {
      "name": "python3",
      "display_name": "Python 3"
    },
    "accelerator": "GPU"
  },
  "cells": [
    {
      "cell_type": "markdown",
      "metadata": {
        "id": "view-in-github",
        "colab_type": "text"
      },
      "source": [
        "<a href=\"https://colab.research.google.com/github/Gaukhar-ai/DecisionTree/blob/master/Deep_Learning_Day_3_Morning_Lecture.ipynb\" target=\"_parent\"><img src=\"https://colab.research.google.com/assets/colab-badge.svg\" alt=\"Open In Colab\"/></a>"
      ]
    },
    {
      "cell_type": "code",
      "metadata": {
        "id": "V_-8rWi47L60",
        "outputId": "51d02f95-fd79-47dd-c224-6ee74c7d7591",
        "colab": {
          "base_uri": "https://localhost:8080/"
        }
      },
      "source": [
        "from tensorflow.keras.datasets import mnist\n",
        "from tensorflow.keras.utils import to_categorical\n",
        "\n",
        "(X_train, y_train), (X_test, y_test) = mnist.load_data()\n",
        "\n",
        "input_dim = 784  # 28*28\n",
        "output_dim = nb_classes = 10\n",
        "batch_size = 128\n",
        "nb_epoch = 20\n",
        "\n",
        "X_train = X_train.reshape(60000, input_dim)\n",
        "X_test = X_test.reshape(10000, input_dim)\n",
        "X_train = X_train.astype('float32')\n",
        "X_test = X_test.astype('float32')\n",
        "X_train /= 255\n",
        "X_test /= 255\n",
        "\n",
        "\n",
        "Y_train = to_categorical(y_train, nb_classes)\n",
        "Y_test = to_categorical(y_test, nb_classes)"
      ],
      "execution_count": 1,
      "outputs": [
        {
          "output_type": "stream",
          "text": [
            "Downloading data from https://storage.googleapis.com/tensorflow/tf-keras-datasets/mnist.npz\n",
            "11493376/11490434 [==============================] - 0s 0us/step\n"
          ],
          "name": "stdout"
        }
      ]
    },
    {
      "cell_type": "code",
      "metadata": {
        "id": "9oW9iVdS7c2v"
      },
      "source": [
        "from tensorflow.keras.models import Sequential\n",
        "from tensorflow.keras.layers import Dense\n",
        "\n",
        "# two hidden layers 1028, 1028\n",
        "model = Sequential()\n",
        "model.add(Dense(1028, input_dim = X_train.shape[1], activation = 'relu'))\n",
        "model.add(Dense(1028, activation = 'relu'))\n",
        "model.add(Dense(10, activation = 'softmax'))\n"
      ],
      "execution_count": 2,
      "outputs": []
    },
    {
      "cell_type": "code",
      "metadata": {
        "id": "EdjzJvQg80kP"
      },
      "source": [
        "from tensorflow.keras.optimizers import SGD\n",
        "sgd = SGD(learning_rate=0.01, momentum=0.9)"
      ],
      "execution_count": 3,
      "outputs": []
    },
    {
      "cell_type": "code",
      "metadata": {
        "id": "hmxnjQqw8dGF"
      },
      "source": [
        "model.compile(optimizer=sgd, loss='categorical_crossentropy', metrics=['accuracy'])"
      ],
      "execution_count": 4,
      "outputs": []
    },
    {
      "cell_type": "code",
      "metadata": {
        "id": "lQ0mGdkY9EE3",
        "outputId": "56d7b40a-71dd-4d86-dc6b-85aefc39a59d",
        "colab": {
          "base_uri": "https://localhost:8080/"
        }
      },
      "source": [
        "model.fit(X_train, Y_train, validation_data=(X_test, Y_test), batch_size=128, epochs=10, verbose=2)"
      ],
      "execution_count": 5,
      "outputs": [
        {
          "output_type": "stream",
          "text": [
            "Epoch 1/10\n",
            "469/469 - 2s - loss: 0.4123 - accuracy: 0.8880 - val_loss: 0.2102 - val_accuracy: 0.9399\n",
            "Epoch 2/10\n",
            "469/469 - 2s - loss: 0.1869 - accuracy: 0.9457 - val_loss: 0.1525 - val_accuracy: 0.9556\n",
            "Epoch 3/10\n",
            "469/469 - 2s - loss: 0.1352 - accuracy: 0.9617 - val_loss: 0.1229 - val_accuracy: 0.9631\n",
            "Epoch 4/10\n",
            "469/469 - 1s - loss: 0.1050 - accuracy: 0.9698 - val_loss: 0.1121 - val_accuracy: 0.9662\n",
            "Epoch 5/10\n",
            "469/469 - 1s - loss: 0.0846 - accuracy: 0.9763 - val_loss: 0.0896 - val_accuracy: 0.9723\n",
            "Epoch 6/10\n",
            "469/469 - 1s - loss: 0.0687 - accuracy: 0.9809 - val_loss: 0.0812 - val_accuracy: 0.9751\n",
            "Epoch 7/10\n",
            "469/469 - 1s - loss: 0.0582 - accuracy: 0.9837 - val_loss: 0.0787 - val_accuracy: 0.9759\n",
            "Epoch 8/10\n",
            "469/469 - 1s - loss: 0.0495 - accuracy: 0.9868 - val_loss: 0.0701 - val_accuracy: 0.9779\n",
            "Epoch 9/10\n",
            "469/469 - 1s - loss: 0.0420 - accuracy: 0.9884 - val_loss: 0.0676 - val_accuracy: 0.9796\n",
            "Epoch 10/10\n",
            "469/469 - 1s - loss: 0.0358 - accuracy: 0.9909 - val_loss: 0.0650 - val_accuracy: 0.9792\n"
          ],
          "name": "stdout"
        },
        {
          "output_type": "execute_result",
          "data": {
            "text/plain": [
              "<tensorflow.python.keras.callbacks.History at 0x7f8f5011af60>"
            ]
          },
          "metadata": {
            "tags": []
          },
          "execution_count": 5
        }
      ]
    },
    {
      "cell_type": "code",
      "metadata": {
        "id": "_cLgPVPk9KbJ"
      },
      "source": [
        "def build_model(\n",
        "    input_dim,\n",
        "    output_dim=1,\n",
        "    layer_nodes=[64, 32, 32],\n",
        "    activation_function=\"relu\",\n",
        "    output_function=\"sigmoid\",\n",
        "    \n",
        "):\n",
        "    model = Sequential()\n",
        "    model.add(\n",
        "        Dense(layer_nodes[0], input_dim=input_dim, activation=activation_function)\n",
        "    )\n",
        "    for i in range(1, len(layer_nodes)):\n",
        "        model.add(Dense(layer_nodes[i], activation=activation_function))\n",
        "\n",
        "    model.add(Dense(output_dim, activation=output_function))\n",
        "\n",
        "    model.compile(optimizer=opt, loss='categorical_crossentropy', metrics=['accuracy'])\n",
        "    return model "
      ],
      "execution_count": 6,
      "outputs": []
    },
    {
      "cell_type": "code",
      "metadata": {
        "id": "TClLnTQX9KdR",
        "outputId": "b6f01adc-57dd-49c6-cde3-d7cb67d8fcb9",
        "colab": {
          "base_uri": "https://localhost:8080/"
        }
      },
      "source": [
        "# sgd\n",
        "sgd_model = Sequential()\n",
        "model.add(Dense(1028, input_dim = X_train.shape[1], activation = 'relu'))\n",
        "model.add(Dense(1028, activation = 'relu'))\n",
        "model.add(Dense(10, activation = 'softmax'))\n",
        "\n",
        "model.compile(optimizer='sgd', loss='categorical_crossentropy', metrics=['accuracy'])\n",
        "model.fit(X_train, Y_train, validation_data=(X_test, Y_test), batch_size=128, epochs=10, verbose=2)"
      ],
      "execution_count": null,
      "outputs": [
        {
          "output_type": "stream",
          "text": [
            "Epoch 1/10\n",
            "469/469 - 3s - loss: 1.0165 - accuracy: 0.7833 - val_loss: 0.4889 - val_accuracy: 0.8842\n",
            "Epoch 2/10\n",
            "469/469 - 3s - loss: 0.4243 - accuracy: 0.8898 - val_loss: 0.3530 - val_accuracy: 0.9070\n",
            "Epoch 3/10\n",
            "469/469 - 3s - loss: 0.3422 - accuracy: 0.9057 - val_loss: 0.3057 - val_accuracy: 0.9166\n",
            "Epoch 4/10\n",
            "469/469 - 3s - loss: 0.3038 - accuracy: 0.9149 - val_loss: 0.2801 - val_accuracy: 0.9234\n",
            "Epoch 5/10\n",
            "469/469 - 3s - loss: 0.2789 - accuracy: 0.9214 - val_loss: 0.2593 - val_accuracy: 0.9285\n",
            "Epoch 6/10\n",
            "469/469 - 3s - loss: 0.2602 - accuracy: 0.9267 - val_loss: 0.2438 - val_accuracy: 0.9329\n",
            "Epoch 7/10\n",
            "469/469 - 3s - loss: 0.2445 - accuracy: 0.9314 - val_loss: 0.2301 - val_accuracy: 0.9351\n",
            "Epoch 8/10\n",
            "469/469 - 2s - loss: 0.2311 - accuracy: 0.9353 - val_loss: 0.2200 - val_accuracy: 0.9381\n",
            "Epoch 9/10\n",
            "469/469 - 2s - loss: 0.2193 - accuracy: 0.9381 - val_loss: 0.2101 - val_accuracy: 0.9413\n",
            "Epoch 10/10\n",
            "469/469 - 2s - loss: 0.2087 - accuracy: 0.9414 - val_loss: 0.2016 - val_accuracy: 0.9417\n"
          ],
          "name": "stdout"
        },
        {
          "output_type": "execute_result",
          "data": {
            "text/plain": [
              "<tensorflow.python.keras.callbacks.History at 0x7fc6356bd5c0>"
            ]
          },
          "metadata": {
            "tags": []
          },
          "execution_count": 7
        }
      ]
    },
    {
      "cell_type": "code",
      "metadata": {
        "id": "_V2KAXXz9Khs"
      },
      "source": [
        "model = Sequential()\n",
        "model.add(Dense(1028, input_dim = X_train.shape[1], activation = 'relu'))\n",
        "model.add(Dense(1028, activation = 'relu'))\n",
        "model.add(Dense(10, activation = 'softmax'))\n",
        "\n",
        "model.compile(optimizer='adagrad', loss='categorical_crossentropy', metrics=['accuracy'])\n",
        "model.fit(X_train, Y_train, validation_data=(X_test, Y_test), batch_size=128, epochs=10, verbose=2)"
      ],
      "execution_count": null,
      "outputs": []
    },
    {
      "cell_type": "code",
      "metadata": {
        "id": "89Zbx5CN9KkC"
      },
      "source": [
        "model = Sequential()\n",
        "model.add(Dense(1028, input_dim = X_train.shape[1], activation = 'relu'))\n",
        "model.add(Dense(1028, activation = 'relu'))\n",
        "model.add(Dense(10, activation = 'softmax'))\n",
        "\n",
        "model.compile(optimizer='rmsprop', loss='categorical_crossentropy', metrics=['accuracy'])\n",
        "model.fit(X_train, Y_train, validation_data=(X_test, Y_test), batch_size=128, epochs=10, verbose=2)"
      ],
      "execution_count": null,
      "outputs": []
    }
  ]
}