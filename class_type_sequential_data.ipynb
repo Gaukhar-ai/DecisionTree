{
  "nbformat": 4,
  "nbformat_minor": 0,
  "metadata": {
    "colab": {
      "name": "class.type.sequential.data.ipynb",
      "provenance": [],
      "authorship_tag": "ABX9TyPsb8iIILkT7YuUGT8ZrvmH",
      "include_colab_link": true
    },
    "kernelspec": {
      "name": "python3",
      "display_name": "Python 3"
    }
  },
  "cells": [
    {
      "cell_type": "markdown",
      "metadata": {
        "id": "view-in-github",
        "colab_type": "text"
      },
      "source": [
        "<a href=\"https://colab.research.google.com/github/Gaukhar-ai/DecisionTree/blob/master/class_type_sequential_data.ipynb\" target=\"_parent\"><img src=\"https://colab.research.google.com/assets/colab-badge.svg\" alt=\"Open In Colab\"/></a>"
      ]
    },
    {
      "cell_type": "code",
      "metadata": {
        "id": "CcahVulXqbjD"
      },
      "source": [
        "from tensorflow.keras.preprocessing.text import one_hot"
      ],
      "execution_count": 2,
      "outputs": []
    },
    {
      "cell_type": "code",
      "metadata": {
        "id": "hjBj7gW6pOLZ"
      },
      "source": [
        "docs = ['well done!',\n",
        "        'good work',\n",
        "        'great effor',\n",
        "        'nice work', \n",
        "        'exellen',\n",
        "        'weak',\n",
        "        'poor',\n",
        "        'not good']"
      ],
      "execution_count": 4,
      "outputs": []
    },
    {
      "cell_type": "code",
      "metadata": {
        "id": "sUUGApa5qC5Z",
        "outputId": "cb52976b-bb0b-48c8-8bae-6fb9b917b225",
        "colab": {
          "base_uri": "https://localhost:8080/"
        }
      },
      "source": [
        "vocab_size = 100\n",
        "encoded_docs = [one_hot(d, vocab_size) for d in docs]\n",
        "print(encoded_docs)"
      ],
      "execution_count": 6,
      "outputs": [
        {
          "output_type": "stream",
          "text": [
            "[[39, 70], [17, 40], [61, 31], [34, 40], [4], [38], [6], [40, 17]]\n"
          ],
          "name": "stdout"
        }
      ]
    },
    {
      "cell_type": "code",
      "metadata": {
        "id": "DpYA8eemqC9r"
      },
      "source": [
        "#make features standard weight, they need to be the same"
      ],
      "execution_count": 7,
      "outputs": []
    },
    {
      "cell_type": "code",
      "metadata": {
        "id": "spulxrfRqDAT"
      },
      "source": [
        "from tensorflow.keras.preprocessing.sequence import pad_sequences\n",
        "ind_vars = pad_sequences(encoded_docs)"
      ],
      "execution_count": 8,
      "outputs": []
    },
    {
      "cell_type": "code",
      "metadata": {
        "id": "VankHbQIqDDE",
        "outputId": "9528366e-d1d3-4988-aa80-bb33e8690f8f",
        "colab": {
          "base_uri": "https://localhost:8080/"
        }
      },
      "source": [
        "ind_vars #0 is nothing "
      ],
      "execution_count": 12,
      "outputs": [
        {
          "output_type": "execute_result",
          "data": {
            "text/plain": [
              "array([[39, 70],\n",
              "       [17, 40],\n",
              "       [61, 31],\n",
              "       [34, 40],\n",
              "       [ 0,  4],\n",
              "       [ 0, 38],\n",
              "       [ 0,  6],\n",
              "       [40, 17]], dtype=int32)"
            ]
          },
          "metadata": {
            "tags": []
          },
          "execution_count": 12
        }
      ]
    },
    {
      "cell_type": "code",
      "metadata": {
        "id": "hwbz8H3Lsyei"
      },
      "source": [
        "import pandas as pd\n",
        "import numpy as np"
      ],
      "execution_count": 16,
      "outputs": []
    },
    {
      "cell_type": "code",
      "metadata": {
        "id": "ZimK4opKqDFl",
        "outputId": "f3303e97-d1ca-4910-dd4b-2650227978db",
        "colab": {
          "base_uri": "https://localhost:8080/"
        }
      },
      "source": [
        "from tensorflow.keras.models import Sequential\n",
        "from tensorflow.keras.layers import Dense, Embedding, SimpleRNN\n",
        "max_words = np.max(ind_vars) #grabs the largest encoded value\n",
        "model= Sequential()\n",
        "model.add(Embedding(max_words, 100, input_length=ind_vars.shape[1]))\n",
        "model.add(SimpleRNN(32))\n",
        "model.add(Dense(8, activation='relu'))\n",
        "model.add(Dense(1, activation='sigmoid'))\n",
        "model.summary()"
      ],
      "execution_count": 19,
      "outputs": [
        {
          "output_type": "stream",
          "text": [
            "Model: \"sequential_3\"\n",
            "_________________________________________________________________\n",
            "Layer (type)                 Output Shape              Param #   \n",
            "=================================================================\n",
            "embedding (Embedding)        (None, 2, 100)            7000      \n",
            "_________________________________________________________________\n",
            "simple_rnn (SimpleRNN)       (None, 32)                4256      \n",
            "_________________________________________________________________\n",
            "dense (Dense)                (None, 8)                 264       \n",
            "_________________________________________________________________\n",
            "dense_1 (Dense)              (None, 1)                 9         \n",
            "=================================================================\n",
            "Total params: 11,529\n",
            "Trainable params: 11,529\n",
            "Non-trainable params: 0\n",
            "_________________________________________________________________\n"
          ],
          "name": "stdout"
        }
      ]
    },
    {
      "cell_type": "code",
      "metadata": {
        "id": "hlUzujocqDIM",
        "outputId": "37d296b1-7ac2-422c-c990-c7cee4a1362e",
        "colab": {
          "base_uri": "https://localhost:8080/",
          "height": 204
        }
      },
      "source": [
        "dodgers = pd.read_csv('https://tf-assets-prod.s3.amazonaws.com/tf-curric/data-science/Dodgers.csv')\n",
        "dodgers.head()"
      ],
      "execution_count": 20,
      "outputs": [
        {
          "output_type": "execute_result",
          "data": {
            "text/html": [
              "<div>\n",
              "<style scoped>\n",
              "    .dataframe tbody tr th:only-of-type {\n",
              "        vertical-align: middle;\n",
              "    }\n",
              "\n",
              "    .dataframe tbody tr th {\n",
              "        vertical-align: top;\n",
              "    }\n",
              "\n",
              "    .dataframe thead th {\n",
              "        text-align: right;\n",
              "    }\n",
              "</style>\n",
              "<table border=\"1\" class=\"dataframe\">\n",
              "  <thead>\n",
              "    <tr style=\"text-align: right;\">\n",
              "      <th></th>\n",
              "      <th>datetime</th>\n",
              "      <th>cars</th>\n",
              "    </tr>\n",
              "  </thead>\n",
              "  <tbody>\n",
              "    <tr>\n",
              "      <th>0</th>\n",
              "      <td>4/10/2005 0:00</td>\n",
              "      <td>-1</td>\n",
              "    </tr>\n",
              "    <tr>\n",
              "      <th>1</th>\n",
              "      <td>4/10/2005 0:05</td>\n",
              "      <td>-1</td>\n",
              "    </tr>\n",
              "    <tr>\n",
              "      <th>2</th>\n",
              "      <td>4/10/2005 0:10</td>\n",
              "      <td>-1</td>\n",
              "    </tr>\n",
              "    <tr>\n",
              "      <th>3</th>\n",
              "      <td>4/10/2005 0:15</td>\n",
              "      <td>-1</td>\n",
              "    </tr>\n",
              "    <tr>\n",
              "      <th>4</th>\n",
              "      <td>4/10/2005 0:20</td>\n",
              "      <td>-1</td>\n",
              "    </tr>\n",
              "  </tbody>\n",
              "</table>\n",
              "</div>"
            ],
            "text/plain": [
              "         datetime  cars\n",
              "0  4/10/2005 0:00    -1\n",
              "1  4/10/2005 0:05    -1\n",
              "2  4/10/2005 0:10    -1\n",
              "3  4/10/2005 0:15    -1\n",
              "4  4/10/2005 0:20    -1"
            ]
          },
          "metadata": {
            "tags": []
          },
          "execution_count": 20
        }
      ]
    },
    {
      "cell_type": "code",
      "metadata": {
        "id": "nIBDCusbqDK7",
        "outputId": "b462fbef-94bc-419d-d12d-c2b3140ae17b",
        "colab": {
          "base_uri": "https://localhost:8080/"
        }
      },
      "source": [
        "dodgers.info()"
      ],
      "execution_count": 22,
      "outputs": [
        {
          "output_type": "stream",
          "text": [
            "<class 'pandas.core.frame.DataFrame'>\n",
            "RangeIndex: 50400 entries, 0 to 50399\n",
            "Data columns (total 2 columns):\n",
            " #   Column    Non-Null Count  Dtype \n",
            "---  ------    --------------  ----- \n",
            " 0   datetime  50400 non-null  object\n",
            " 1   cars      50400 non-null  int64 \n",
            "dtypes: int64(1), object(1)\n",
            "memory usage: 787.6+ KB\n"
          ],
          "name": "stdout"
        }
      ]
    },
    {
      "cell_type": "code",
      "metadata": {
        "id": "RpLTPScOqDN7",
        "outputId": "d41bccd8-79da-428f-8c4e-cca52f0a7b30",
        "colab": {
          "base_uri": "https://localhost:8080/",
          "height": 419
        }
      },
      "source": [
        "dodgers['datetime'] = pd.to_datetime(dodgers['datetime'])\n",
        "dodgers"
      ],
      "execution_count": 23,
      "outputs": [
        {
          "output_type": "execute_result",
          "data": {
            "text/html": [
              "<div>\n",
              "<style scoped>\n",
              "    .dataframe tbody tr th:only-of-type {\n",
              "        vertical-align: middle;\n",
              "    }\n",
              "\n",
              "    .dataframe tbody tr th {\n",
              "        vertical-align: top;\n",
              "    }\n",
              "\n",
              "    .dataframe thead th {\n",
              "        text-align: right;\n",
              "    }\n",
              "</style>\n",
              "<table border=\"1\" class=\"dataframe\">\n",
              "  <thead>\n",
              "    <tr style=\"text-align: right;\">\n",
              "      <th></th>\n",
              "      <th>datetime</th>\n",
              "      <th>cars</th>\n",
              "    </tr>\n",
              "  </thead>\n",
              "  <tbody>\n",
              "    <tr>\n",
              "      <th>0</th>\n",
              "      <td>2005-04-10 00:00:00</td>\n",
              "      <td>-1</td>\n",
              "    </tr>\n",
              "    <tr>\n",
              "      <th>1</th>\n",
              "      <td>2005-04-10 00:05:00</td>\n",
              "      <td>-1</td>\n",
              "    </tr>\n",
              "    <tr>\n",
              "      <th>2</th>\n",
              "      <td>2005-04-10 00:10:00</td>\n",
              "      <td>-1</td>\n",
              "    </tr>\n",
              "    <tr>\n",
              "      <th>3</th>\n",
              "      <td>2005-04-10 00:15:00</td>\n",
              "      <td>-1</td>\n",
              "    </tr>\n",
              "    <tr>\n",
              "      <th>4</th>\n",
              "      <td>2005-04-10 00:20:00</td>\n",
              "      <td>-1</td>\n",
              "    </tr>\n",
              "    <tr>\n",
              "      <th>...</th>\n",
              "      <td>...</td>\n",
              "      <td>...</td>\n",
              "    </tr>\n",
              "    <tr>\n",
              "      <th>50395</th>\n",
              "      <td>2005-10-01 23:35:00</td>\n",
              "      <td>-1</td>\n",
              "    </tr>\n",
              "    <tr>\n",
              "      <th>50396</th>\n",
              "      <td>2005-10-01 23:40:00</td>\n",
              "      <td>-1</td>\n",
              "    </tr>\n",
              "    <tr>\n",
              "      <th>50397</th>\n",
              "      <td>2005-10-01 23:45:00</td>\n",
              "      <td>-1</td>\n",
              "    </tr>\n",
              "    <tr>\n",
              "      <th>50398</th>\n",
              "      <td>2005-10-01 23:50:00</td>\n",
              "      <td>-1</td>\n",
              "    </tr>\n",
              "    <tr>\n",
              "      <th>50399</th>\n",
              "      <td>2005-10-01 23:55:00</td>\n",
              "      <td>-1</td>\n",
              "    </tr>\n",
              "  </tbody>\n",
              "</table>\n",
              "<p>50400 rows × 2 columns</p>\n",
              "</div>"
            ],
            "text/plain": [
              "                 datetime  cars\n",
              "0     2005-04-10 00:00:00    -1\n",
              "1     2005-04-10 00:05:00    -1\n",
              "2     2005-04-10 00:10:00    -1\n",
              "3     2005-04-10 00:15:00    -1\n",
              "4     2005-04-10 00:20:00    -1\n",
              "...                   ...   ...\n",
              "50395 2005-10-01 23:35:00    -1\n",
              "50396 2005-10-01 23:40:00    -1\n",
              "50397 2005-10-01 23:45:00    -1\n",
              "50398 2005-10-01 23:50:00    -1\n",
              "50399 2005-10-01 23:55:00    -1\n",
              "\n",
              "[50400 rows x 2 columns]"
            ]
          },
          "metadata": {
            "tags": []
          },
          "execution_count": 23
        }
      ]
    },
    {
      "cell_type": "code",
      "metadata": {
        "id": "Qrs5XXHCqDQ1"
      },
      "source": [
        "dodgers.plot(x = )"
      ],
      "execution_count": null,
      "outputs": []
    },
    {
      "cell_type": "code",
      "metadata": {
        "id": "-SGrfmGlqDTt"
      },
      "source": [
        "from sklearn.model_selection import train_test_split\n",
        "\n",
        "train, test = train_test_split(dodgers['cars'], test_size=0.2, shuffle=False)"
      ],
      "execution_count": 24,
      "outputs": []
    },
    {
      "cell_type": "code",
      "metadata": {
        "id": "Lu1PaZyFqDWc",
        "outputId": "9c96adeb-3fc3-44e3-8926-e91f583b59e3",
        "colab": {
          "base_uri": "https://localhost:8080/"
        }
      },
      "source": [
        "train.shape"
      ],
      "execution_count": 25,
      "outputs": [
        {
          "output_type": "execute_result",
          "data": {
            "text/plain": [
              "(40320,)"
            ]
          },
          "metadata": {
            "tags": []
          },
          "execution_count": 25
        }
      ]
    },
    {
      "cell_type": "code",
      "metadata": {
        "id": "66I4OR-eqDZh"
      },
      "source": [
        "#sequential form: 123 predict 4, 234 predict 5, 345 predict 5"
      ],
      "execution_count": null,
      "outputs": []
    },
    {
      "cell_type": "code",
      "metadata": {
        "id": "Rryj91mwt2Ia"
      },
      "source": [
        "def convert_data(data, step):\n",
        "  X, Y = [], []\n",
        "  for i in range(len(data)-step): #to prevent out of range i = start index\n",
        "    d = i + step # d is and end index\n",
        "    X.append(data[i:d,])\n",
        "    Y.append(data[d,])\n",
        "  return np.array(X), np.array(Y)"
      ],
      "execution_count": 28,
      "outputs": []
    },
    {
      "cell_type": "code",
      "metadata": {
        "id": "dWUsoYHnt2LQ"
      },
      "source": [
        "step = 3\n",
        "X_train, y_train = convert_data(train.value, test)\n",
        "X_train"
      ],
      "execution_count": null,
      "outputs": []
    },
    {
      "cell_type": "code",
      "metadata": {
        "id": "5Scx4sbjt2OM"
      },
      "source": [
        "X_train[-1]"
      ],
      "execution_count": null,
      "outputs": []
    },
    {
      "cell_type": "code",
      "metadata": {
        "id": "IO3h7SRSt2Te"
      },
      "source": [
        "y_train[1]"
      ],
      "execution_count": null,
      "outputs": []
    },
    {
      "cell_type": "code",
      "metadata": {
        "id": "NJIfnrbAt2WE"
      },
      "source": [
        "train.tail(5)"
      ],
      "execution_count": null,
      "outputs": []
    },
    {
      "cell_type": "code",
      "metadata": {
        "id": "9AGUuiaRt2Y_"
      },
      "source": [
        "y_train[-2]"
      ],
      "execution_count": null,
      "outputs": []
    },
    {
      "cell_type": "code",
      "metadata": {
        "id": "Thb57gykt2ba"
      },
      "source": [
        "X_train.shape"
      ],
      "execution_count": null,
      "outputs": []
    },
    {
      "cell_type": "code",
      "metadata": {
        "id": "9WBEQ4u-t2eD"
      },
      "source": [
        "X_train = np.reshape(X_train, (X_train.shape[0], 1, X_train.shape[1]))\n",
        "X_test = np.reshape(X_train, )"
      ],
      "execution_count": null,
      "outputs": []
    },
    {
      "cell_type": "code",
      "metadata": {
        "id": "foSTFHsSt2hI"
      },
      "source": [
        "X_train.shape"
      ],
      "execution_count": null,
      "outputs": []
    },
    {
      "cell_type": "code",
      "metadata": {
        "id": "EtYgfJE0t2j6"
      },
      "source": [
        "model = Sequential()\n",
        "model.add(SimpleRNN(units=32, input_shape=(X_train.shape[1], X_train.shape[2]), ))"
      ],
      "execution_count": null,
      "outputs": []
    },
    {
      "cell_type": "code",
      "metadata": {
        "id": "AlvtrFZmt2mx"
      },
      "source": [
        ""
      ],
      "execution_count": null,
      "outputs": []
    }
  ]
}